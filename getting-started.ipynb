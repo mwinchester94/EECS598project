{
 "cells": [
  {
   "cell_type": "markdown",
   "metadata": {},
   "source": [
    "# EECS 598 Project: Getting Started\n",
    "\n",
    "This notebook will take you through the setup involved in the EECS 598 term project. We will also become familiar with basic SQL queries."
   ]
  },
  {
   "cell_type": "markdown",
   "metadata": {},
   "source": [
    "## 1. Install packages\n",
    "\n",
    "Now launch Julia (either from your application launcher, or within a terminal). We're going to add some packages we will need later on. Type a closing square bracket ( `]` ) to enter pkg mode. Now type the following commands:\n",
    "\n",
    "```julia\n",
    "# type [ first to enter pkg mode (blue prompt), then do:\n",
    "add LibPQ\n",
    "add DataStreams\n",
    "add DataFrames\n",
    "add Plots\n",
    "add CSV\n",
    "\n",
    "# precompile all packages now so they load faster later:\n",
    "precompile\n",
    "\n",
    "# now backspace to exit pkg mode (prompt will return to green)\n",
    "```"
   ]
  },
  {
   "cell_type": "markdown",
   "metadata": {},
   "source": [
    "## 2. Connect to baseball database\n",
    "\n",
    "The file `postgresql.jl` includes functions for connecting to the remote databases that contain baseball data:"
   ]
  },
  {
   "cell_type": "code",
   "execution_count": null,
   "metadata": {
    "scrolled": true
   },
   "outputs": [],
   "source": [
    "include(\"postgresql.jl\")"
   ]
  },
  {
   "cell_type": "markdown",
   "metadata": {},
   "source": [
    "We've just loaded three connection functions for you to use, depending on which database your team will be working with:\n",
    "\n",
    "```julia\n",
    "# pitch data\n",
    "connect_missing_pitch(\n",
    "    connection_dir,\n",
    "    username, \n",
    "    password\n",
    ")\n",
    "\n",
    "# probability of an out data\n",
    "connect_probability_out(\n",
    "    connection_dir,\n",
    "    username, \n",
    "    password\n",
    ")\n",
    "\n",
    "# pitch tunneling data\n",
    "connect_pitch_tunneling(\n",
    "    connection_dir,\n",
    "    username,\n",
    "    password\n",
    ")\n",
    "```\n",
    "\n",
    "Note that each database has its own directory with unique connection files -- be careful not to enter the wrong database path! Here are the three paths to choose from:\n",
    "\n",
    "* Probability of an out: `./postgresql-files/probability-out/`\n",
    "* Pitch tunneling: `./postgresql-files/pitch-tunneling/`\n",
    "* Missing pitch imputation: `./postgresql-files/missing-pitch`"
   ]
  },
  {
   "cell_type": "markdown",
   "metadata": {},
   "source": [
    "Let's connect to the \"missing-pitch\" database as an example, using an example username and password. You will need to enter the username and password combination for your group, along with the appropriate connection directory (which contains certificates and an authentication key):"
   ]
  },
  {
   "cell_type": "code",
   "execution_count": 2,
   "metadata": {
    "scrolled": false
   },
   "outputs": [
    {
     "ename": "UndefVarError",
     "evalue": "UndefVarError: connect_missing_pitch not defined",
     "output_type": "error",
     "traceback": [
      "UndefVarError: connect_missing_pitch not defined",
      "",
      "Stacktrace:",
      " [1] top-level scope at In[2]:5"
     ]
    }
   ],
   "source": [
    "connection_dir = \"./postgresql-files/missing-pitch\"\n",
    "\n",
    "# enter your group's username and password as strings here:\n",
    "username = ??\n",
    "password = ??\n",
    "\n",
    "conn = connect_missing_pitch(connection_dir, username, password)"
   ]
  },
  {
   "cell_type": "markdown",
   "metadata": {},
   "source": [
    "## 3. Query databases"
   ]
  },
  {
   "cell_type": "markdown",
   "metadata": {},
   "source": [
    "Note that the function printed the name of the relevant data table: `pitchmissing`. Having successfully initiated a connection, we can now send SQL queries to these tables. Let's ask for the list of columns in the `pitchmissing` table:"
   ]
  },
  {
   "cell_type": "code",
   "execution_count": null,
   "metadata": {},
   "outputs": [],
   "source": [
    "query = \"\"\"\n",
    "  SELECT ordinal_position,\n",
    "         column_name,\n",
    "         data_type,\n",
    "         numeric_precision\n",
    "    FROM information_schema.columns\n",
    "   WHERE table_name = 'pitchmissing'\n",
    "ORDER BY ordinal_position;\n",
    "\"\"\"\n",
    "result = execute(conn, query)"
   ]
  },
  {
   "cell_type": "markdown",
   "metadata": {},
   "source": [
    "(Here we queried a special table, the [information schema](https://www.postgresql.org/docs/9.1/static/information-schema.html). You don't need to worry about the details here -- just know that we can request metadata about tables using this schema.)\n",
    "\n",
    "Okay, so the `execute` function returned a \"PostgreSQL result\" object -- but where's the data? At this point, we've told the server what we want, and it's ready to send it over. Now we ned to tell Julia to stream it in and store it somewhere locally:"
   ]
  },
  {
   "cell_type": "code",
   "execution_count": null,
   "metadata": {
    "scrolled": true
   },
   "outputs": [],
   "source": [
    "data = Data.stream!(result, Data.Table)"
   ]
  },
  {
   "cell_type": "markdown",
   "metadata": {},
   "source": [
    "Great! Now we've streamed a bunch of data. It looks ugly though. Let's wrap it up in a nice tidy DataFrame:"
   ]
  },
  {
   "cell_type": "code",
   "execution_count": null,
   "metadata": {},
   "outputs": [],
   "source": [
    "DataFrame(data)"
   ]
  },
  {
   "cell_type": "markdown",
   "metadata": {},
   "source": [
    "Much better. We can see the list of columns in the table, ready to be queried. That was a lot of steps just to get a dataframe! That's why we included a simple function in `postgresql.jl` to make things more convenient: `stream_to_dataframe()`.\n",
    "\n",
    "If you don't want to think about SQL anymore, we'll show you the simplest query. This next query takes all data for the whole table and streams it over. Keep in mind that this will take up a significant chunk of memory (1.3 million rows and 43 columns!), and this approach won't always work in the real world, where datasets can be much larger. Be prepared to wait a while for this cell to run -- the kernel might even crash!"
   ]
  },
  {
   "cell_type": "code",
   "execution_count": null,
   "metadata": {},
   "outputs": [],
   "source": [
    "# WARNING: takes a long time to run! May crash your kernel!\n",
    "query = \"\"\"\n",
    "SELECT *\n",
    "FROM pitchmissing;\n",
    "\"\"\"\n",
    "\n",
    "data = stream_to_dataframe(conn, query)"
   ]
  },
  {
   "cell_type": "code",
   "execution_count": null,
   "metadata": {},
   "outputs": [],
   "source": [
    "size(data) # pretty big"
   ]
  },
  {
   "cell_type": "markdown",
   "metadata": {},
   "source": [
    "If you were able to stream the whole dataset over, you can save it locally as a CSV:"
   ]
  },
  {
   "cell_type": "code",
   "execution_count": null,
   "metadata": {},
   "outputs": [],
   "source": [
    "using CSV, DataFrames\n",
    "CSV.write(\"pitch-missing.csv\", data)"
   ]
  },
  {
   "cell_type": "markdown",
   "metadata": {},
   "source": [
    "## 4. Learn more SQL! (optional)"
   ]
  },
  {
   "cell_type": "markdown",
   "metadata": {},
   "source": [
    "You probably won't need the whole dataset in your analysis. You can use SQL queries to request specific data. There are many resources out there for learning about SQL queries. [Here](https://www.w3schools.com/sql/sql_intro.asp) is a good one.\n",
    "\n",
    "**The rest of this notebook just provides more examples of SQL queries to help you work with these large datasets.**"
   ]
  },
  {
   "cell_type": "markdown",
   "metadata": {},
   "source": [
    "### Taking a subset of rows from a subset of columns\n",
    "\n",
    "Suppose we want the first 20 rows from the \"pitcherid\" and \"pitchtype\" columns. We can set up the query, execute, and stream as follows:"
   ]
  },
  {
   "cell_type": "code",
   "execution_count": null,
   "metadata": {},
   "outputs": [],
   "source": [
    "query = \"\"\"\n",
    "  SELECT pitcherid,\n",
    "         pitchtype\n",
    "    FROM pitchmissing\n",
    "   LIMIT 20\n",
    "\"\"\"\n",
    "\n",
    "data = stream_to_dataframe(conn, query)"
   ]
  },
  {
   "cell_type": "markdown",
   "metadata": {},
   "source": [
    "Why `LIMIT`? Because there are 1.3 million rows! Without LIMIT, the server would send us the entire column, and we don't need that (right now at least)."
   ]
  },
  {
   "cell_type": "markdown",
   "metadata": {},
   "source": [
    "### Using GROUP BY to request an aggregated summary of data\n",
    "\n",
    "Now let's group the data by pitcher ID and pitchtype, to see the most prolific pitchers and the kinds of throws they prefer:"
   ]
  },
  {
   "cell_type": "code",
   "execution_count": null,
   "metadata": {
    "scrolled": false
   },
   "outputs": [],
   "source": [
    "query = \"\"\"\n",
    "SELECT pitcherid, pitchtype, COUNT(pitchtype)\n",
    "FROM pitchmissing\n",
    "GROUP BY pitcherid, pitchtype\n",
    "ORDER BY COUNT(pitchtype) DESC\n",
    "LIMIT 20;\n",
    "\"\"\"\n",
    "\n",
    "data = stream_to_dataframe(conn, query)"
   ]
  },
  {
   "cell_type": "markdown",
   "metadata": {},
   "source": [
    "So the pitcher with ID 434378 threw a lot of four-seam fastballs. What is the pitch speed distribution for this pitcher?"
   ]
  },
  {
   "cell_type": "code",
   "execution_count": null,
   "metadata": {},
   "outputs": [],
   "source": [
    "query = \"\"\"\n",
    "SELECT pitchtype, ReleaseSpeed\n",
    "FROM pitchmissing\n",
    "WHERE pitcherid=434378;\n",
    "\"\"\"\n",
    "\n",
    "data = stream_to_dataframe(conn, query)"
   ]
  },
  {
   "cell_type": "markdown",
   "metadata": {},
   "source": [
    "Now let's visualize this pitcher's pitch type distribution:"
   ]
  },
  {
   "cell_type": "code",
   "execution_count": null,
   "metadata": {},
   "outputs": [],
   "source": [
    "using Plots\n",
    "gr(\n",
    "    label=\"\",\n",
    "    markerstrokewidth=0.3,\n",
    "    markerstrokecolor=\"white\",\n",
    "    markersize=5,\n",
    ")"
   ]
  },
  {
   "cell_type": "code",
   "execution_count": null,
   "metadata": {},
   "outputs": [],
   "source": [
    "# use the project prompt pdf from Canvas to make a lookup dictionary\n",
    "# for pitch types:\n",
    "pitchtype_lookup = Dict(\n",
    "  \"CH\" => \"Changeup\",\n",
    "  \"CU\" => \"Curveball\",\n",
    "  \"FC\" => \"Cutter\",\n",
    "  \"FF\" => \"Four-seam fastball\",\n",
    "  \"FO\" => \"Forkball\",\n",
    "  \"FS\" => \"Splitter\",\n",
    "  \"FT\" => \"Two-seam fastball\",\n",
    "  \"KC\" => \"Knuckle curve\",\n",
    "  \"KN\" => \"Knuckleball\",\n",
    "  \"SC\" => \"Screwball\",\n",
    "  \"SI\" => \"Sinker\",\n",
    "  \"SL\" => \"Slider\"\n",
    "  )\n",
    "\n",
    "x = map(s -> pitchtype_lookup[s], data[:pitchtype])\n",
    "\n",
    "y = data[:releasespeed]\n",
    "scatter(x, y;\n",
    "    xlabel=\"Pitch type\", \n",
    "    ylabel=\"Speed (MPH)\",\n",
    "    title=\"Pitch speeds for pitcher 434378 ($(length(x)) pitches)\"\n",
    ")"
   ]
  },
  {
   "cell_type": "markdown",
   "metadata": {},
   "source": [
    "### Comparing release speed, release angle, and height above plate\n",
    "\n",
    "Let's find out more about pitch types. What are the typical measurements for a fastball vs a slider?"
   ]
  },
  {
   "cell_type": "code",
   "execution_count": null,
   "metadata": {},
   "outputs": [],
   "source": [
    "query = \"\"\"\n",
    "SELECT  pitchtype,\n",
    "        COUNT(pitchtype),\n",
    "        AVG(ReleaseSpeed) AS ReleaseSpeed_avg,\n",
    "        AVG(ReleaseAngle) AS ReleaseAngle_avg,\n",
    "        AVG(TrajectoryLocationZ) AS PlateHeight_avg\n",
    "FROM pitchmissing\n",
    "GROUP BY pitchtype\n",
    "ORDER BY ReleaseSpeed_avg DESC\n",
    "\"\"\"\n",
    "\n",
    "data = stream_to_dataframe(conn, query)"
   ]
  },
  {
   "cell_type": "code",
   "execution_count": null,
   "metadata": {
    "scrolled": false
   },
   "outputs": [],
   "source": [
    "pitchtype = data[:pitchtype]\n",
    "releasespeed = data[:releasespeed_avg]\n",
    "releaseangle = data[:releaseangle_avg]\n",
    "plateheight = data[:plateheight_avg]\n",
    "\n",
    "p1 = scatter(pitchtype, releasespeed; ylabel=\"Avg release speed (MPH)\")\n",
    "p2 = scatter(pitchtype, releaseangle; ylabel=\"Avg release angle (deg)\")\n",
    "p3 = scatter(pitchtype, plateheight; ylabel=\"Avg height above plate (ft)\")\n",
    "plot(p1, p2, p3; layout=(3, 1), size=(500, 700))"
   ]
  },
  {
   "cell_type": "markdown",
   "metadata": {},
   "source": [
    "Glancing at our missing pitch prompt PDF, we see that ReleaseAngle represents the vertical angle of pitch release. The chart illustrates what we might expect: the fast a ball is released, the lower the angle should be in order for it to end up right over the home plate. You may be surprised to see that fastballs are released with a significant downward angle -- they travel so fast that they can make it all the way to the plate without dropping too far!\n",
    "\n",
    "As a sanity check, look at the [forkball](https://en.wikipedia.org/wiki/Forkball) (FO). It has a very low release angle, and is not released very quickly, so we expect it to be quite low when it reaches the home plate. Sure enough, the bottom chart shows that forkballs end up 1.5 ft above the plate on average."
   ]
  },
  {
   "cell_type": "markdown",
   "metadata": {},
   "source": [
    "### Looking up missing values\n",
    "\n",
    "Run the following cell to look up pitches for which the ReleaseSpeed value is missing:"
   ]
  },
  {
   "cell_type": "code",
   "execution_count": null,
   "metadata": {},
   "outputs": [],
   "source": [
    "query = \"\"\"\n",
    "SELECT pitcherid, pitchtype, releasespeed, releaseangle\n",
    "FROM pitchmissing\n",
    "WHERE releasespeed IS NULL;\n",
    "\"\"\"\n",
    "\n",
    "data = stream_to_dataframe(conn, query)"
   ]
  },
  {
   "cell_type": "code",
   "execution_count": null,
   "metadata": {},
   "outputs": [],
   "source": [
    "size(data)"
   ]
  },
  {
   "cell_type": "markdown",
   "metadata": {},
   "source": [
    "For groups working on the pitch-missing project, these 1324 missing values are among those you will be trying to fill in! There are of course other similar commands for looking up missing values, but we have to leave some work for you to do :)"
   ]
  }
 ],
 "metadata": {
  "kernelspec": {
   "display_name": "Julia 1.0.1",
   "language": "julia",
   "name": "julia-1.0"
  },
  "language_info": {
   "file_extension": ".jl",
   "mimetype": "application/julia",
   "name": "julia",
   "version": "1.0.1"
  }
 },
 "nbformat": 4,
 "nbformat_minor": 2
}

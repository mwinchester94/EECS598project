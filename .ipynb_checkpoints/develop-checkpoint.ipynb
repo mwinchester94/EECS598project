{
 "cells": [
  {
   "cell_type": "code",
   "execution_count": 1,
   "metadata": {},
   "outputs": [
    {
     "data": {
      "text/plain": [
       "stream_to_dataframe (generic function with 1 method)"
      ]
     },
     "execution_count": 1,
     "metadata": {},
     "output_type": "execute_result"
    }
   ],
   "source": [
    "include(\"postgresql.jl\")"
   ]
  },
  {
   "cell_type": "code",
   "execution_count": 6,
   "metadata": {},
   "outputs": [
    {
     "name": "stdout",
     "output_type": "stream",
     "text": [
      "Connecting to pitch-tunneling database.\n",
      "Data are stored in 'pitchtunnelingtest' and 'pitchtunnelingtrain' tables.\n"
     ]
    },
    {
     "data": {
      "text/plain": [
       "PostgreSQL connection (CONNECTION_OK) with parameters:\n",
       "  user = user1\n",
       "  password = ********************\n",
       "  dbname = pitch-tunneling\n",
       "  host = 141.211.55.211\n",
       "  port = 58421\n",
       "  client_encoding = UTF8\n",
       "  application_name = LibPQ.jl\n",
       "  sslmode = verify-ca\n",
       "  sslcompression = 1\n",
       "  sslcert = ./pitch-tunneling/postgresql.crt\n",
       "  sslkey = ./pitch-tunneling/postgresql.key\n",
       "  sslrootcert = ./pitch-tunneling/root.crt\n",
       "  krbsrvname = postgres\n",
       "  target_session_attrs = any"
      ]
     },
     "execution_count": 6,
     "metadata": {},
     "output_type": "execute_result"
    }
   ],
   "source": [
    "connection_dir = \"./pitch-tunneling\"\n",
    "\n",
    "user, pw = open(\"pw_pitch_tunneling.txt\") do file\n",
    "    readlines(file)\n",
    "end\n",
    "\n",
    "username = user\n",
    "password = pw\n",
    "\n",
    "conn = connect_pitch_tunneling(connection_dir, username, password)"
   ]
  }
 ],
 "metadata": {
  "kernelspec": {
   "display_name": "Julia 0.7.0",
   "language": "julia",
   "name": "julia-0.7"
  },
  "language_info": {
   "file_extension": ".jl",
   "mimetype": "application/julia",
   "name": "julia",
   "version": "0.7.0"
  }
 },
 "nbformat": 4,
 "nbformat_minor": 2
}

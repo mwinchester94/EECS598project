{
 "cells": [
  {
   "cell_type": "markdown",
   "metadata": {},
   "source": [
    "# EECS 598 Project: Getting Started\n",
    "\n",
    "This notebook will take you through the setup involved in the EECS 598 term project. We will also become familiar with basic SQL queries."
   ]
  },
  {
   "cell_type": "markdown",
   "metadata": {},
   "source": [
    "## 1. Install packages\n",
    "\n",
    "Now launch Julia (either from your application launcher, or within a terminal). We're going to add some packages we will need later on. Type a closing square bracket ( `]` ) to enter pkg mode. Now type the following commands:\n",
    "\n",
    "```julia\n",
    "# type ] first to enter pkg mode (blue prompt), then do:\n",
    "add LibPQ\n",
    "add DataStreams\n",
    "add DataFrames\n",
    "add Plots\n",
    "add CSV\n",
    "\n",
    "# precompile all packages now so they load faster later:\n",
    "precompile\n",
    "\n",
    "# now backspace to exit pkg mode (prompt will return to green)\n",
    "```"
   ]
  },
  {
   "cell_type": "markdown",
   "metadata": {},
   "source": [
    "## 2. Connect to baseball database\n",
    "\n",
    "The file `postgresql.jl` includes functions for connecting to the remote databases that contain baseball data:"
   ]
  },
  {
   "cell_type": "code",
   "execution_count": 1,
   "metadata": {
    "scrolled": true
   },
   "outputs": [
    {
     "data": {
      "text/plain": [
       "stream_to_dataframe (generic function with 1 method)"
      ]
     },
     "execution_count": 1,
     "metadata": {},
     "output_type": "execute_result"
    }
   ],
   "source": [
    "include(\"postgresql.jl\")"
   ]
  },
  {
   "cell_type": "markdown",
   "metadata": {},
   "source": [
    "We've just loaded three connection functions for you to use, depending on which database your team will be working with:\n",
    "\n",
    "```julia\n",
    "# pitch data\n",
    "connect_missing_pitch(\n",
    "    connection_dir,\n",
    "    username, \n",
    "    password\n",
    ")\n",
    "\n",
    "# probability of an out data\n",
    "connect_probability_out(\n",
    "    connection_dir,\n",
    "    username, \n",
    "    password\n",
    ")\n",
    "\n",
    "# pitch tunneling data\n",
    "connect_pitch_tunneling(\n",
    "    connection_dir,\n",
    "    username,\n",
    "    password\n",
    ")\n",
    "```\n",
    "\n",
    "Note that each database has its own directory with unique connection files -- be careful not to enter the wrong database path! Here are the three paths to choose from:\n",
    "\n",
    "* Probability of an out: `./postgresql-files/probability-out/`\n",
    "* Pitch tunneling: `./postgresql-files/pitch-tunneling/`\n",
    "* Missing pitch imputation: `./postgresql-files/missing-pitch`"
   ]
  },
  {
   "cell_type": "markdown",
   "metadata": {},
   "source": [
    "Let's connect to the \"missing-pitch\" database as an example, using an example username and password. You will need to enter the username and password combination for your group, along with the appropriate connection directory (which contains certificates and an authentication key):"
   ]
  },
  {
   "cell_type": "code",
   "execution_count": 4,
   "metadata": {
    "scrolled": false
   },
   "outputs": [
    {
     "name": "stdout",
     "output_type": "stream",
     "text": [
      "Connecting to missing-pitch database.\n",
      "Data are stored in the 'pitchmissing' table.\n"
     ]
    },
    {
     "data": {
      "text/plain": [
       "PostgreSQL connection (CONNECTION_OK) with parameters:\n",
       "  user = user1\n",
       "  password = ********************\n",
       "  dbname = missing-pitch\n",
       "  host = 141.211.55.211\n",
       "  port = 58420\n",
       "  client_encoding = UTF8\n",
       "  application_name = LibPQ.jl\n",
       "  sslmode = verify-ca\n",
       "  sslcompression = 1\n",
       "  sslcert = ./postgresql-files/missing-pitch/postgresql.crt\n",
       "  sslkey = ./postgresql-files/missing-pitch/postgresql.key\n",
       "  sslrootcert = ./postgresql-files/missing-pitch/root.crt\n",
       "  krbsrvname = postgres\n",
       "  target_session_attrs = any"
      ]
     },
     "execution_count": 4,
     "metadata": {},
     "output_type": "execute_result"
    }
   ],
   "source": [
    "connection_dir = \"./postgresql-files/missing-pitch\"\n",
    "\n",
    "# enter your group's username and password as strings here:\n",
    "user, pw = open(\"pw_missing_pitch.txt\") do file\n",
    "    readlines(file)\n",
    "end\n",
    "\n",
    "username = user\n",
    "password = pw\n",
    "\n",
    "conn = connect_missing_pitch(connection_dir, username, password)"
   ]
  },
  {
   "cell_type": "markdown",
   "metadata": {},
   "source": [
    "## 3. Query databases"
   ]
  },
  {
   "cell_type": "markdown",
   "metadata": {},
   "source": [
    "Note that the function printed the name of the relevant data table: `pitchmissing`. Having successfully initiated a connection, we can now send SQL queries to these tables. Let's ask for the list of columns in the `pitchmissing` table:"
   ]
  },
  {
   "cell_type": "code",
   "execution_count": 5,
   "metadata": {},
   "outputs": [
    {
     "data": {
      "text/plain": [
       "PostgreSQL result"
      ]
     },
     "execution_count": 5,
     "metadata": {},
     "output_type": "execute_result"
    }
   ],
   "source": [
    "query = \"\"\"\n",
    "  SELECT ordinal_position,\n",
    "         column_name,\n",
    "         data_type,\n",
    "         numeric_precision\n",
    "    FROM information_schema.columns\n",
    "   WHERE table_name = 'pitchmissing'\n",
    "ORDER BY ordinal_position;\n",
    "\"\"\"\n",
    "result = execute(conn, query)"
   ]
  },
  {
   "cell_type": "markdown",
   "metadata": {},
   "source": [
    "(Here we queried a special table, the [information schema](https://www.postgresql.org/docs/9.1/static/information-schema.html). You don't need to worry about the details here -- just know that we can request metadata about tables using this schema.)\n",
    "\n",
    "Okay, so the `execute` function returned a \"PostgreSQL result\" object -- but where's the data? At this point, we've told the server what we want, and it's ready to send it over. Now we ned to tell Julia to stream it in and store it somewhere locally:"
   ]
  },
  {
   "cell_type": "code",
   "execution_count": 6,
   "metadata": {
    "scrolled": true
   },
   "outputs": [
    {
     "data": {
      "text/plain": [
       "(ordinal_position = Union{Missing, Int32}[1, 2, 3, 4, 5, 6, 7, 8, 9, 10  …  34, 35, 36, 37, 38, 39, 40, 41, 42, 43], column_name = Union{Missing, String}[\"pitchguid\", \"gamepk\", \"batterid\", \"pitcherid\", \"pitchtype\", \"venueid\", \"islhp\", \"islhb\", \"inning\", \"istop\"  …  \"trajectorypolynomialz1\", \"trajectorypolynomialz2\", \"trajectoryverticalapproachangle\", \"trajectoryhorizontalapproachangle\", \"trajectoryverticalbreak\", \"trajectorylocationx\", \"trajectorylocationy\", \"trajectorylocationz\", \"atbatnumber\", \"pitchnumber\"], data_type = Union{Missing, String}[\"character varying\", \"integer\", \"integer\", \"integer\", \"character varying\", \"integer\", \"bit\", \"bit\", \"integer\", \"bit\"  …  \"double precision\", \"double precision\", \"double precision\", \"double precision\", \"double precision\", \"double precision\", \"double precision\", \"double precision\", \"integer\", \"integer\"], numeric_precision = Union{Missing, Int32}[missing, 32, 32, 32, missing, 32, missing, missing, 32, missing  …  53, 53, 53, 53, 53, 53, 53, 53, 32, 32])"
      ]
     },
     "execution_count": 6,
     "metadata": {},
     "output_type": "execute_result"
    }
   ],
   "source": [
    "data = Data.stream!(result, Data.Table)"
   ]
  },
  {
   "cell_type": "markdown",
   "metadata": {},
   "source": [
    "Great! Now we've streamed a bunch of data. It looks ugly though. Let's wrap it up in a nice tidy DataFrame:"
   ]
  },
  {
   "cell_type": "code",
   "execution_count": 7,
   "metadata": {},
   "outputs": [
    {
     "data": {
      "text/html": [
       "<table class=\"data-frame\"><thead><tr><th></th><th>ordinal_position</th><th>column_name</th><th>data_type</th><th>numeric_precision</th></tr><tr><th></th><th>Int32⍰</th><th>String⍰</th><th>String⍰</th><th>Int32⍰</th></tr></thead><tbody><tr><th>1</th><td>1</td><td>pitchguid</td><td>character varying</td><td>missing</td></tr><tr><th>2</th><td>2</td><td>gamepk</td><td>integer</td><td>32</td></tr><tr><th>3</th><td>3</td><td>batterid</td><td>integer</td><td>32</td></tr><tr><th>4</th><td>4</td><td>pitcherid</td><td>integer</td><td>32</td></tr><tr><th>5</th><td>5</td><td>pitchtype</td><td>character varying</td><td>missing</td></tr><tr><th>6</th><td>6</td><td>venueid</td><td>integer</td><td>32</td></tr><tr><th>7</th><td>7</td><td>islhp</td><td>bit</td><td>missing</td></tr><tr><th>8</th><td>8</td><td>islhb</td><td>bit</td><td>missing</td></tr><tr><th>9</th><td>9</td><td>inning</td><td>integer</td><td>32</td></tr><tr><th>10</th><td>10</td><td>istop</td><td>bit</td><td>missing</td></tr><tr><th>11</th><td>11</td><td>outs</td><td>integer</td><td>32</td></tr><tr><th>12</th><td>12</td><td>balls</td><td>integer</td><td>32</td></tr><tr><th>13</th><td>13</td><td>strikes</td><td>integer</td><td>32</td></tr><tr><th>14</th><td>14</td><td>releaseextension</td><td>double precision</td><td>53</td></tr><tr><th>15</th><td>15</td><td>releaseangle</td><td>double precision</td><td>53</td></tr><tr><th>16</th><td>16</td><td>releasespinaxis</td><td>double precision</td><td>53</td></tr><tr><th>17</th><td>17</td><td>releasepositionx</td><td>double precision</td><td>53</td></tr><tr><th>18</th><td>18</td><td>releasepositiony</td><td>double precision</td><td>53</td></tr><tr><th>19</th><td>19</td><td>releasepositionz</td><td>double precision</td><td>53</td></tr><tr><th>20</th><td>20</td><td>releasespeed</td><td>double precision</td><td>53</td></tr><tr><th>21</th><td>21</td><td>releasedirection</td><td>double precision</td><td>53</td></tr><tr><th>22</th><td>22</td><td>releasespinrate</td><td>double precision</td><td>53</td></tr><tr><th>23</th><td>23</td><td>trajectoryhorizontalbreak</td><td>double precision</td><td>53</td></tr><tr><th>24</th><td>24</td><td>trajectoryverticalbreakinduced</td><td>double precision</td><td>53</td></tr><tr><th>25</th><td>25</td><td>trajectoryzonespeed</td><td>double precision</td><td>53</td></tr><tr><th>26</th><td>26</td><td>trajectoryzonetime</td><td>double precision</td><td>53</td></tr><tr><th>27</th><td>27</td><td>trajectorypolynomialx0</td><td>double precision</td><td>53</td></tr><tr><th>28</th><td>28</td><td>trajectorypolynomialx1</td><td>double precision</td><td>53</td></tr><tr><th>29</th><td>29</td><td>trajectorypolynomialx2</td><td>double precision</td><td>53</td></tr><tr><th>30</th><td>30</td><td>trajectorypolynomialy0</td><td>double precision</td><td>53</td></tr><tr><th>&vellip;</th><td>&vellip;</td><td>&vellip;</td><td>&vellip;</td><td>&vellip;</td></tr></tbody></table>"
      ],
      "text/latex": [
       "\\begin{tabular}{r|cccc}\n",
       "\t& ordinal\\_position & column\\_name & data\\_type & numeric\\_precision\\\\\n",
       "\t\\hline\n",
       "\t1 & 1 & pitchguid & character varying &  \\\\\n",
       "\t2 & 2 & gamepk & integer & 32 \\\\\n",
       "\t3 & 3 & batterid & integer & 32 \\\\\n",
       "\t4 & 4 & pitcherid & integer & 32 \\\\\n",
       "\t5 & 5 & pitchtype & character varying &  \\\\\n",
       "\t6 & 6 & venueid & integer & 32 \\\\\n",
       "\t7 & 7 & islhp & bit &  \\\\\n",
       "\t8 & 8 & islhb & bit &  \\\\\n",
       "\t9 & 9 & inning & integer & 32 \\\\\n",
       "\t10 & 10 & istop & bit &  \\\\\n",
       "\t11 & 11 & outs & integer & 32 \\\\\n",
       "\t12 & 12 & balls & integer & 32 \\\\\n",
       "\t13 & 13 & strikes & integer & 32 \\\\\n",
       "\t14 & 14 & releaseextension & double precision & 53 \\\\\n",
       "\t15 & 15 & releaseangle & double precision & 53 \\\\\n",
       "\t16 & 16 & releasespinaxis & double precision & 53 \\\\\n",
       "\t17 & 17 & releasepositionx & double precision & 53 \\\\\n",
       "\t18 & 18 & releasepositiony & double precision & 53 \\\\\n",
       "\t19 & 19 & releasepositionz & double precision & 53 \\\\\n",
       "\t20 & 20 & releasespeed & double precision & 53 \\\\\n",
       "\t21 & 21 & releasedirection & double precision & 53 \\\\\n",
       "\t22 & 22 & releasespinrate & double precision & 53 \\\\\n",
       "\t23 & 23 & trajectoryhorizontalbreak & double precision & 53 \\\\\n",
       "\t24 & 24 & trajectoryverticalbreakinduced & double precision & 53 \\\\\n",
       "\t25 & 25 & trajectoryzonespeed & double precision & 53 \\\\\n",
       "\t26 & 26 & trajectoryzonetime & double precision & 53 \\\\\n",
       "\t27 & 27 & trajectorypolynomialx0 & double precision & 53 \\\\\n",
       "\t28 & 28 & trajectorypolynomialx1 & double precision & 53 \\\\\n",
       "\t29 & 29 & trajectorypolynomialx2 & double precision & 53 \\\\\n",
       "\t30 & 30 & trajectorypolynomialy0 & double precision & 53 \\\\\n",
       "\t31 & 31 & trajectorypolynomialy1 & double precision & 53 \\\\\n",
       "\t32 & 32 & trajectorypolynomialy2 & double precision & 53 \\\\\n",
       "\t33 & 33 & trajectorypolynomialz0 & double precision & 53 \\\\\n",
       "\t34 & 34 & trajectorypolynomialz1 & double precision & 53 \\\\\n",
       "\t35 & 35 & trajectorypolynomialz2 & double precision & 53 \\\\\n",
       "\t36 & 36 & trajectoryverticalapproachangle & double precision & 53 \\\\\n",
       "\t37 & 37 & trajectoryhorizontalapproachangle & double precision & 53 \\\\\n",
       "\t38 & 38 & trajectoryverticalbreak & double precision & 53 \\\\\n",
       "\t39 & 39 & trajectorylocationx & double precision & 53 \\\\\n",
       "\t40 & 40 & trajectorylocationy & double precision & 53 \\\\\n",
       "\t41 & 41 & trajectorylocationz & double precision & 53 \\\\\n",
       "\t42 & 42 & atbatnumber & integer & 32 \\\\\n",
       "\t43 & 43 & pitchnumber & integer & 32 \\\\\n",
       "\\end{tabular}\n"
      ],
      "text/plain": [
       "43×4 DataFrame. Omitted printing of 2 columns\n",
       "│ Row │ ordinal_position │ column_name                       │\n",
       "│     │ \u001b[90mInt32⍰\u001b[39m           │ \u001b[90mUnion{Missing, String}\u001b[39m            │\n",
       "├─────┼──────────────────┼───────────────────────────────────┤\n",
       "│ 1   │ 1                │ pitchguid                         │\n",
       "│ 2   │ 2                │ gamepk                            │\n",
       "│ 3   │ 3                │ batterid                          │\n",
       "│ 4   │ 4                │ pitcherid                         │\n",
       "│ 5   │ 5                │ pitchtype                         │\n",
       "│ 6   │ 6                │ venueid                           │\n",
       "│ 7   │ 7                │ islhp                             │\n",
       "│ 8   │ 8                │ islhb                             │\n",
       "│ 9   │ 9                │ inning                            │\n",
       "│ 10  │ 10               │ istop                             │\n",
       "⋮\n",
       "│ 33  │ 33               │ trajectorypolynomialz0            │\n",
       "│ 34  │ 34               │ trajectorypolynomialz1            │\n",
       "│ 35  │ 35               │ trajectorypolynomialz2            │\n",
       "│ 36  │ 36               │ trajectoryverticalapproachangle   │\n",
       "│ 37  │ 37               │ trajectoryhorizontalapproachangle │\n",
       "│ 38  │ 38               │ trajectoryverticalbreak           │\n",
       "│ 39  │ 39               │ trajectorylocationx               │\n",
       "│ 40  │ 40               │ trajectorylocationy               │\n",
       "│ 41  │ 41               │ trajectorylocationz               │\n",
       "│ 42  │ 42               │ atbatnumber                       │\n",
       "│ 43  │ 43               │ pitchnumber                       │"
      ]
     },
     "execution_count": 7,
     "metadata": {},
     "output_type": "execute_result"
    }
   ],
   "source": [
    "DataFrame(data)"
   ]
  },
  {
   "cell_type": "markdown",
   "metadata": {},
   "source": [
    "Much better. We can see the list of columns in the table, ready to be queried. That was a lot of steps just to get a dataframe! That's why we included a simple function in `postgresql.jl` to make things more convenient: `stream_to_dataframe()`.\n",
    "\n",
    "If you don't want to think about SQL anymore, we'll show you the simplest query. This next query takes all data for the whole table and streams it over. Keep in mind that this will take up a significant chunk of memory (1.3 million rows and 43 columns!), and this approach won't always work in the real world, where datasets can be much larger. Be prepared to wait a while for this cell to run -- the kernel might even crash!"
   ]
  },
  {
   "cell_type": "code",
   "execution_count": null,
   "metadata": {},
   "outputs": [],
   "source": [
    "# WARNING: takes a long time to run! May crash your kernel!\n",
    "query = \"\"\"\n",
    "SELECT *\n",
    "FROM pitchmissing;\n",
    "\"\"\"\n",
    "\n",
    "data = stream_to_dataframe(conn, query)"
   ]
  },
  {
   "cell_type": "code",
   "execution_count": null,
   "metadata": {},
   "outputs": [],
   "source": [
    "size(data) # pretty big"
   ]
  },
  {
   "cell_type": "markdown",
   "metadata": {},
   "source": [
    "If you were able to stream the whole dataset over, you can save it locally as a CSV:"
   ]
  },
  {
   "cell_type": "code",
   "execution_count": null,
   "metadata": {},
   "outputs": [],
   "source": [
    "using CSV, DataFrames\n",
    "CSV.write(\"pitch-missing.csv\", data)"
   ]
  },
  {
   "cell_type": "markdown",
   "metadata": {},
   "source": [
    "## 4. Learn more SQL! (optional)"
   ]
  },
  {
   "cell_type": "markdown",
   "metadata": {},
   "source": [
    "You probably won't need the whole dataset in your analysis. You can use SQL queries to request specific data. There are many resources out there for learning about SQL queries. [Here](https://www.w3schools.com/sql/sql_intro.asp) is a good one.\n",
    "\n",
    "**The rest of this notebook just provides more examples of SQL queries to help you work with these large datasets.**"
   ]
  },
  {
   "cell_type": "markdown",
   "metadata": {},
   "source": [
    "### Taking a subset of rows from a subset of columns\n",
    "\n",
    "Suppose we want the first 20 rows from the \"pitcherid\" and \"pitchtype\" columns. We can set up the query, execute, and stream as follows:"
   ]
  },
  {
   "cell_type": "code",
   "execution_count": null,
   "metadata": {},
   "outputs": [],
   "source": [
    "query = \"\"\"\n",
    "  SELECT pitcherid,\n",
    "         pitchtype\n",
    "    FROM pitchmissing\n",
    "   LIMIT 20\n",
    "\"\"\"\n",
    "\n",
    "data = stream_to_dataframe(conn, query)"
   ]
  },
  {
   "cell_type": "markdown",
   "metadata": {},
   "source": [
    "Why `LIMIT`? Because there are 1.3 million rows! Without LIMIT, the server would send us the entire column, and we don't need that (right now at least)."
   ]
  },
  {
   "cell_type": "markdown",
   "metadata": {},
   "source": [
    "### Using GROUP BY to request an aggregated summary of data\n",
    "\n",
    "Now let's group the data by pitcher ID and pitchtype, to see the most prolific pitchers and the kinds of throws they prefer:"
   ]
  },
  {
   "cell_type": "code",
   "execution_count": null,
   "metadata": {
    "scrolled": false
   },
   "outputs": [],
   "source": [
    "query = \"\"\"\n",
    "SELECT pitcherid, pitchtype, COUNT(pitchtype)\n",
    "FROM pitchmissing\n",
    "GROUP BY pitcherid, pitchtype\n",
    "ORDER BY COUNT(pitchtype) DESC\n",
    "LIMIT 20;\n",
    "\"\"\"\n",
    "\n",
    "data = stream_to_dataframe(conn, query)"
   ]
  },
  {
   "cell_type": "markdown",
   "metadata": {},
   "source": [
    "So the pitcher with ID 434378 threw a lot of four-seam fastballs. What is the pitch speed distribution for this pitcher?"
   ]
  },
  {
   "cell_type": "code",
   "execution_count": null,
   "metadata": {},
   "outputs": [],
   "source": [
    "query = \"\"\"\n",
    "SELECT pitchtype, ReleaseSpeed\n",
    "FROM pitchmissing\n",
    "WHERE pitcherid=434378;\n",
    "\"\"\"\n",
    "\n",
    "data = stream_to_dataframe(conn, query)"
   ]
  },
  {
   "cell_type": "markdown",
   "metadata": {},
   "source": [
    "Now let's visualize this pitcher's pitch type distribution:"
   ]
  },
  {
   "cell_type": "code",
   "execution_count": null,
   "metadata": {},
   "outputs": [],
   "source": [
    "using Plots\n",
    "gr(\n",
    "    label=\"\",\n",
    "    markerstrokewidth=0.3,\n",
    "    markerstrokecolor=\"white\",\n",
    "    markersize=5,\n",
    ")"
   ]
  },
  {
   "cell_type": "code",
   "execution_count": null,
   "metadata": {},
   "outputs": [],
   "source": [
    "# use the project prompt pdf from Canvas to make a lookup dictionary\n",
    "# for pitch types:\n",
    "pitchtype_lookup = Dict(\n",
    "  \"CH\" => \"Changeup\",\n",
    "  \"CU\" => \"Curveball\",\n",
    "  \"FC\" => \"Cutter\",\n",
    "  \"FF\" => \"Four-seam fastball\",\n",
    "  \"FO\" => \"Forkball\",\n",
    "  \"FS\" => \"Splitter\",\n",
    "  \"FT\" => \"Two-seam fastball\",\n",
    "  \"KC\" => \"Knuckle curve\",\n",
    "  \"KN\" => \"Knuckleball\",\n",
    "  \"SC\" => \"Screwball\",\n",
    "  \"SI\" => \"Sinker\",\n",
    "  \"SL\" => \"Slider\"\n",
    "  )\n",
    "\n",
    "x = map(s -> pitchtype_lookup[s], data[:pitchtype])\n",
    "\n",
    "y = data[:releasespeed]\n",
    "scatter(x, y;\n",
    "    xlabel=\"Pitch type\", \n",
    "    ylabel=\"Speed (MPH)\",\n",
    "    title=\"Pitch speeds for pitcher 434378 ($(length(x)) pitches)\"\n",
    ")"
   ]
  },
  {
   "cell_type": "markdown",
   "metadata": {},
   "source": [
    "### Comparing release speed, release angle, and height above plate\n",
    "\n",
    "Let's find out more about pitch types. What are the typical measurements for a fastball vs a slider?"
   ]
  },
  {
   "cell_type": "code",
   "execution_count": null,
   "metadata": {},
   "outputs": [],
   "source": [
    "query = \"\"\"\n",
    "SELECT  pitchtype,\n",
    "        COUNT(pitchtype),\n",
    "        AVG(ReleaseSpeed) AS ReleaseSpeed_avg,\n",
    "        AVG(ReleaseAngle) AS ReleaseAngle_avg,\n",
    "        AVG(TrajectoryLocationZ) AS PlateHeight_avg\n",
    "FROM pitchmissing\n",
    "GROUP BY pitchtype\n",
    "ORDER BY ReleaseSpeed_avg DESC\n",
    "\"\"\"\n",
    "\n",
    "data = stream_to_dataframe(conn, query)"
   ]
  },
  {
   "cell_type": "code",
   "execution_count": null,
   "metadata": {
    "scrolled": false
   },
   "outputs": [],
   "source": [
    "pitchtype = data[:pitchtype]\n",
    "releasespeed = data[:releasespeed_avg]\n",
    "releaseangle = data[:releaseangle_avg]\n",
    "plateheight = data[:plateheight_avg]\n",
    "\n",
    "p1 = scatter(pitchtype, releasespeed; ylabel=\"Avg release speed (MPH)\")\n",
    "p2 = scatter(pitchtype, releaseangle; ylabel=\"Avg release angle (deg)\")\n",
    "p3 = scatter(pitchtype, plateheight; ylabel=\"Avg height above plate (ft)\")\n",
    "plot(p1, p2, p3; layout=(3, 1), size=(500, 700))"
   ]
  },
  {
   "cell_type": "markdown",
   "metadata": {},
   "source": [
    "Glancing at our missing pitch prompt PDF, we see that ReleaseAngle represents the vertical angle of pitch release. The chart illustrates what we might expect: the fast a ball is released, the lower the angle should be in order for it to end up right over the home plate. You may be surprised to see that fastballs are released with a significant downward angle -- they travel so fast that they can make it all the way to the plate without dropping too far!\n",
    "\n",
    "As a sanity check, look at the [forkball](https://en.wikipedia.org/wiki/Forkball) (FO). It has a very low release angle, and is not released very quickly, so we expect it to be quite low when it reaches the home plate. Sure enough, the bottom chart shows that forkballs end up 1.5 ft above the plate on average."
   ]
  },
  {
   "cell_type": "markdown",
   "metadata": {},
   "source": [
    "### Looking up missing values\n",
    "\n",
    "Run the following cell to look up pitches for which the ReleaseSpeed value is missing:"
   ]
  },
  {
   "cell_type": "code",
   "execution_count": null,
   "metadata": {},
   "outputs": [],
   "source": [
    "query = \"\"\"\n",
    "SELECT pitcherid, pitchtype, releasespeed, releaseangle\n",
    "FROM pitchmissing\n",
    "WHERE releasespeed IS NULL;\n",
    "\"\"\"\n",
    "\n",
    "data = stream_to_dataframe(conn, query)"
   ]
  },
  {
   "cell_type": "code",
   "execution_count": null,
   "metadata": {},
   "outputs": [],
   "source": [
    "size(data)"
   ]
  },
  {
   "cell_type": "markdown",
   "metadata": {},
   "source": [
    "For groups working on the pitch-missing project, these 1324 missing values are among those you will be trying to fill in! There are of course other similar commands for looking up missing values, but we have to leave some work for you to do :)"
   ]
  }
 ],
 "metadata": {
  "kernelspec": {
   "display_name": "Julia 1.0.1",
   "language": "julia",
   "name": "julia-1.0"
  },
  "language_info": {
   "file_extension": ".jl",
   "mimetype": "application/julia",
   "name": "julia",
   "version": "1.0.1"
  }
 },
 "nbformat": 4,
 "nbformat_minor": 2
}

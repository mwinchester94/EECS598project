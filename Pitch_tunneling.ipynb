{
 "cells": [
  {
   "cell_type": "code",
   "execution_count": 17,
   "metadata": {},
   "outputs": [
    {
     "name": "stdout",
     "output_type": "stream",
     "text": [
      "Connecting to pitch-tunneling database.\n",
      "Data are stored in 'pitchtunnelingtest' and 'pitchtunnelingtrain' tables.\n",
      "Connecting to pitch-tunneling database.\n",
      "Data are stored in 'pitchtunnelingtest' and 'pitchtunnelingtrain' tables.\n",
      "Connecting to pitch-tunneling database.\n",
      "Data are stored in 'pitchtunnelingtest' and 'pitchtunnelingtrain' tables.\n",
      "Connecting to pitch-tunneling database.\n",
      "Data are stored in 'pitchtunnelingtest' and 'pitchtunnelingtrain' tables.\n",
      "Connecting to pitch-tunneling database.\n",
      "Data are stored in 'pitchtunnelingtest' and 'pitchtunnelingtrain' tables.\n",
      "Connecting to pitch-tunneling database.\n",
      "Data are stored in 'pitchtunnelingtest' and 'pitchtunnelingtrain' tables.\n",
      "Connecting to pitch-tunneling database.\n",
      "Data are stored in 'pitchtunnelingtest' and 'pitchtunnelingtrain' tables.\n",
      "Connecting to pitch-tunneling database.\n",
      "Data are stored in 'pitchtunnelingtest' and 'pitchtunnelingtrain' tables.\n",
      "size(seq_ll_train[1]) = (68012, 11)\n"
     ]
    },
    {
     "ename": "MethodError",
     "evalue": "MethodError: no method matching -(::Array{Union{Missing, Float64},1}, ::Float64)\nClosest candidates are:\n  -(!Matched::Float64, ::Float64) at float.jl:397\n  -(!Matched::Complex{Bool}, ::Real) at complex.jl:298\n  -(!Matched::Missing, ::Number) at missing.jl:93\n  ...",
     "output_type": "error",
     "traceback": [
      "MethodError: no method matching -(::Array{Union{Missing, Float64},1}, ::Float64)\nClosest candidates are:\n  -(!Matched::Float64, ::Float64) at float.jl:397\n  -(!Matched::Complex{Bool}, ::Real) at complex.jl:298\n  -(!Matched::Missing, ::Number) at missing.jl:93\n  ...",
      "",
      "Stacktrace:",
      " [1] colcenter(::Array{Union{Missing, Float64},1}) at /home/work/HW/EECS598/project/TunnelingModule.jl:77",
      " [2] #calc_distance#86(::Bool, ::Function, ::Adjoint{Union{Missing, Float64},Array{Union{Missing, Float64},2}}) at /home/work/HW/EECS598/project/TunnelingModule.jl:95",
      " [3] #calc_distance at ./none:0 [inlined]",
      " [4] #calc_ratios#87(::Bool, ::Function, ::Adjoint{Union{Missing, Float64},Array{Union{Missing, Float64},2}}) at /home/work/HW/EECS598/project/TunnelingModule.jl:107",
      " [5] calc_ratios(::Adjoint{Union{Missing, Float64},Array{Union{Missing, Float64},2}}) at /home/work/HW/EECS598/project/TunnelingModule.jl:107",
      " [6] top-level scope at In[17]:43"
     ]
    }
   ],
   "source": [
    "include(\"postgresql.jl\")\n",
    "include(\"TunnelingModule.jl\")\n",
    "\n",
    "##get training data\n",
    "#get sequential data: 4 combinations of handedness\n",
    "seq_ll_train = get_data(true, islhp=true, islhb=true, sorted=true)\n",
    "seq_lr_train = get_data(true, islhp=true, islhb=false, sorted=true)\n",
    "seq_rl_train = get_data(true, islhp=false, islhb=true, sorted=true)\n",
    "seq_rr_train = get_data(true, islhp=false, islhb=false, sorted=true)\n",
    "#get unsorted data: 8 combinations of handedness and ball type\n",
    "#fast_ll_train = get_data(true, islhp=true, islhb=true)\n",
    "#fast_lr_train = get_data(true, islhp=true, islhb=false)\n",
    "#fast_rl_train = get_data(true, islhp=false, islhb=true)\n",
    "#fast_rr_train = get_data(true, islhp=false, islhb=false)\n",
    "#slow_ll_train = get_data(true, islhp=true, islhb=true, fast=false)\n",
    "#slow_lr_train = get_data(true, islhp=true, islhb=false, fast=false)\n",
    "#slow_rl_train = get_data(true, islhp=false, islhb=true, fast=false)\n",
    "#slow_rr_train = get_data(true, islhp=false, islhb=false, fast=false)\n",
    "\n",
    "##get test data\n",
    "#get sequential data: 4 combinations of handedness\n",
    "seq_ll_test = get_data(false, islhp=true, islhb=true, sorted=true)\n",
    "seq_lr_test = get_data(false, islhp=true, islhb=false, sorted=true)\n",
    "seq_rl_test = get_data(false, islhp=false, islhb=true, sorted=true)\n",
    "seq_rr_test = get_data(false, islhp=false, islhb=false, sorted=true)\n",
    "#get unsorted data: 8 combinations of handedness and ball type\n",
    "#fast_ll_test = get_data(false, islhp=true, islhb=true)\n",
    "#fast_lr_test = get_data(false, islhp=true, islhb=false)\n",
    "#fast_rl_test = get_data(false, islhp=false, islhb=true)\n",
    "#fast_rr_test = get_data(false, islhp=false, islhb=false)\n",
    "#slow_ll_test = get_data(false, islhp=true, islhb=true, fast=false)\n",
    "#slow_lr_test = get_data(false, islhp=true, islhb=false, fast=false)\n",
    "#slow_rl_test = get_data(false, islhp=false, islhb=true, fast=false)\n",
    "#slow_rr_test = get_data(false, islhp=false, islhb=false, fast=false)\n",
    "\n",
    "##calculate distances and ratios\n",
    "#sequential data\n",
    "@show size(seq_ll_train[1])\n",
    "seq_ll_ratios = calc_ratios(seq_ll_train[1], seq=true)\n",
    "seq_lr_ratios = calc_ratios(seq_lr_train[1], seq=true)\n",
    "seq_rl_ratios = calc_ratios(seq_rl_train[1], seq=true)\n",
    "seq_rr_ratios = calc_ratios(seq_rr_train[1], seq=true)\n",
    "#unsorted data\n",
    "fast_ll_ratios = calc_ratios(fast_ll_train[1])\n",
    "fast_lr_ratios = calc_ratios(fast_lr_train[1])\n",
    "fast_rl_ratios = calc_ratios(fast_rl_train[1])\n",
    "fast_rr_ratios = calc_ratios(fast_rr_train[1])\n",
    "slow_ll_ratios = calc_ratios(slow_ll_train[1])\n",
    "slow_lr_ratios = calc_ratios(slow_lr_train[1])\n",
    "slow_rl_ratios = calc_ratios(slow_rl_train[1])\n",
    "slow_rr_ratios = calc_ratios(slow_rr_train[1])\n",
    "\n",
    "##prep test data"
   ]
  },
  {
   "cell_type": "code",
   "execution_count": 9,
   "metadata": {},
   "outputs": [
    {
     "ename": "UndefVarError",
     "evalue": "UndefVarError: seq_ll_ratios not defined",
     "output_type": "error",
     "traceback": [
      "UndefVarError: seq_ll_ratios not defined",
      "",
      "Stacktrace:",
      " [1] top-level scope at In[9]:1"
     ]
    }
   ],
   "source": [
    "##sequential neural net\n",
    "#try ratios first\n",
    "p = size(seq_ll_ratios[2])\n",
    "@show p\n",
    "    \n",
    "#    loss_fn = mse\n",
    "#    n = 10\n",
    "#    m = Chain(Dense(p, n),Dense(n,n,relu),Dense(n,1))  \n",
    "#    loss(x, y) = loss_fn(m(x), y) \n",
    "#    evalcb = () -> @show([loss(Xtrain',ytrain')])\n",
    "#    dataset = Base.Iterators.repeated((Xtrain', ytrain'), 500)\n",
    "#    opt = ADAM(params(m)) \n",
    "#    Flux.train!(loss, dataset, opt, cb = throttle(evalcb, 0.01))\n",
    "    \n",
    "#    return params(m), mse(m(Xtest'),ytest'), m(Xtest') - ytest'"
   ]
  },
  {
   "cell_type": "code",
   "execution_count": 5,
   "metadata": {},
   "outputs": [
    {
     "name": "stdout",
     "output_type": "stream",
     "text": [
      "\u001b[32m\u001b[1m Resolving\u001b[22m\u001b[39m package versions...\n",
      "\u001b[32m\u001b[1m  Updating\u001b[22m\u001b[39m `~/.julia/environments/v1.0/Project.toml`\n",
      " \u001b[90m [587475ba]\u001b[39m\u001b[92m + Flux v0.6.9\u001b[39m\n",
      "\u001b[32m\u001b[1m  Updating\u001b[22m\u001b[39m `~/.julia/environments/v1.0/Manifest.toml`\n",
      " \u001b[90m [1520ce14]\u001b[39m\u001b[92m + AbstractTrees v0.2.0\u001b[39m\n",
      " \u001b[90m [79e6a3ab]\u001b[39m\u001b[92m + Adapt v0.4.1\u001b[39m\n",
      " \u001b[90m [bbf7d656]\u001b[39m\u001b[92m + CommonSubexpressions v0.2.0\u001b[39m\n",
      " \u001b[90m [163ba53b]\u001b[39m\u001b[92m + DiffResults v0.0.3\u001b[39m\n",
      " \u001b[90m [b552c78f]\u001b[39m\u001b[92m + DiffRules v0.0.7\u001b[39m\n",
      " \u001b[90m [587475ba]\u001b[39m\u001b[92m + Flux v0.6.9\u001b[39m\n",
      " \u001b[90m [f6369f11]\u001b[39m\u001b[92m + ForwardDiff v0.10.1\u001b[39m\n",
      " \u001b[90m [e5e0dc1b]\u001b[39m\u001b[92m + Juno v0.5.3\u001b[39m\n",
      " \u001b[90m [1914dd2f]\u001b[39m\u001b[92m + MacroTools v0.4.4\u001b[39m\n",
      " \u001b[90m [e89f7d12]\u001b[39m\u001b[92m + Media v0.5.0\u001b[39m\n",
      " \u001b[90m [872c559c]\u001b[39m\u001b[92m + NNlib v0.4.3\u001b[39m\n",
      " \u001b[90m [a5390f91]\u001b[39m\u001b[92m + ZipFile v0.8.0\u001b[39m\n"
     ]
    }
   ],
   "source": [
    "import Pkg;\n",
    "Pkg.add(\"Flux\")"
   ]
  }
 ],
 "metadata": {
  "kernelspec": {
   "display_name": "Julia 1.0.1",
   "language": "julia",
   "name": "julia-1.0"
  },
  "language_info": {
   "file_extension": ".jl",
   "mimetype": "application/julia",
   "name": "julia",
   "version": "1.0.1"
  }
 },
 "nbformat": 4,
 "nbformat_minor": 2
}
